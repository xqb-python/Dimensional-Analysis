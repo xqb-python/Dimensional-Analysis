{
 "cells": [
  {
   "cell_type": "markdown",
   "id": "b8a560e8",
   "metadata": {},
   "source": [
    "# Dimensional Analysis Code Validation for Laminar Boundary Layer \n",
    "-----------------------------------------By Qianhao Xiao(肖千豪)-----------------------------------------------------"
   ]
  },
  {
   "cell_type": "markdown",
   "id": "c7a68c08",
   "metadata": {},
   "source": [
    "![jupyter](./Boundary_Layer.png)"
   ]
  },
  {
   "cell_type": "code",
   "execution_count": 15,
   "id": "68e3f1b1",
   "metadata": {},
   "outputs": [],
   "source": [
    "import pandas as pd\n",
    "import numpy as np\n",
    "import warnings\n",
    "warnings.filterwarnings('ignore')\n",
    "from sklearn.metrics import r2_score\n",
    "\n",
    "import geatpy as ea\n",
    "from sklearn.linear_model import LinearRegression\n",
    "from sklearn.preprocessing import PolynomialFeatures\n",
    "\n",
    "from scipy.optimize import root\n",
    "from scipy.integrate import odeint"
   ]
  },
  {
   "cell_type": "markdown",
   "id": "dd12687a",
   "metadata": {},
   "source": [
    "## Boundary Layer Settings "
   ]
  },
  {
   "cell_type": "code",
   "execution_count": 16,
   "id": "9cbf603f",
   "metadata": {},
   "outputs": [],
   "source": [
    "np.random.seed(0)\n",
    "\n",
    "eta_inf = 10;  # Arbitrary \"infinite\" upper limit for domain\n",
    "d_eta = 0.01;   # Step size\n",
    "eta = np.arange(0, eta_inf, d_eta)\n",
    "F_init = [0, 0, 0] # Initial guess for unknown initial condition\n",
    "\n",
    "def blasius_rhs(f):\n",
    "    \"\"\"RHS of Blasius equation recast as first order nonlinear ODE\n",
    "    f[0] = f\n",
    "    f[1] = f'\n",
    "    f[2] = f''\n",
    "    \"\"\"\n",
    "    return np.array([f[1], f[2], -f[0]*f[2]/2])\n",
    "\n",
    "def bc_fn(f0):\n",
    "    \"\"\"Solve with unknown initial condition as guess and evaluate at upper boundary\"\"\"\n",
    "    global eta\n",
    "    f = odeint(lambda f, t: blasius_rhs(f), f0, eta)\n",
    "    # return discrepancy between upper boundary and desired f[2] = 1\n",
    "    return [f0[0], f0[1], f[-1, 1] - 1]\n",
    "\n",
    "# Solve root-finding problem for unknown initial condition\n",
    "opt_res = root(bc_fn, F_init, tol=1e-4)\n",
    "F0 = [0, 0, opt_res.x[2]]\n",
    "# Evaluate with resulting initial conditions\n",
    "f = odeint(lambda y, t: blasius_rhs(y), F0, eta)"
   ]
  },
  {
   "cell_type": "markdown",
   "id": "94fe49e8",
   "metadata": {},
   "source": [
    "## Generate Training Data"
   ]
  },
  {
   "cell_type": "code",
   "execution_count": 17,
   "id": "60ad8147",
   "metadata": {},
   "outputs": [],
   "source": [
    "x = np.linspace(1e-3, 1e-1, 100)\n",
    "nu = 1e-6       # Viscosity of water near room temperature  (m^2/s)\n",
    "U_inf = 0.01    # m/s\n",
    "\n",
    "Re = (U_inf/nu)*x\n",
    "delta = 1.72 * np.sqrt(x*nu/U_inf)\n",
    "\n",
    "y = np.linspace(1e-4, 2*max(delta), 100)\n",
    "\n",
    "yy, xx = np.meshgrid(y, x)\n",
    "\n",
    "u = np.zeros([len(x), len(y)])\n",
    "v = np.zeros(u.shape)\n",
    "\n",
    "eta = yy*np.sqrt(U_inf/(xx*nu))  # Exact value of eta\n",
    "\n",
    "for i in range(len(x)):\n",
    "    f = odeint(lambda y, t: blasius_rhs(y), F0, eta[i, :])\n",
    "    u[i, :] = U_inf * f[:, 1]\n",
    "    v[i, :] = (0.5*U_inf/np.sqrt(Re[i])) * (eta[i, :]*f[:, 1] - f[:, 0])\n",
    "    \n",
    "# All parameters\n",
    "p = np.vstack([xx.flatten(),\n",
    "               yy.flatten(),\n",
    "               np.full(u.shape, U_inf).flatten(),\n",
    "               np.full(u.shape, nu).flatten()]).T"
   ]
  },
  {
   "cell_type": "markdown",
   "id": "3e88198a",
   "metadata": {},
   "source": [
    "## Select 40 sets of samples for training"
   ]
  },
  {
   "cell_type": "code",
   "execution_count": 18,
   "id": "11fc6df7",
   "metadata": {},
   "outputs": [],
   "source": [
    "nsamp = 40\n",
    "q = np.vstack([u.flatten()/U_inf, v.flatten()/U_inf])\n",
    "idx = np.random.choice(np.arange(q.shape[1]), nsamp)\n",
    "q = q[:, idx]\n",
    "#（u和v）\n",
    "outputs = q[0, :].T\n",
    "#输入（变量）\n",
    "inputs = p[idx, :]\n",
    "eta_vec = np.array([-1, 2, 1, -1]) \n",
    "# Buckingham pi matrix [L; T]\n",
    "# [x, y, U, nu]变量的无量纲\n",
    "dim_matrix = np.array([[1, 0], [1, 0], [1, -1], [2,  -1]]).T\n",
    "\n",
    "# True vectors are in the nullspace\n",
    "eta_vec = np.array([-0.5, 1, 0.5, -0.5])"
   ]
  },
  {
   "cell_type": "markdown",
   "id": "45a848e2",
   "metadata": {},
   "source": [
    "## Learning dimensionless numbers"
   ]
  },
  {
   "cell_type": "code",
   "execution_count": 19,
   "id": "1757c53a",
   "metadata": {},
   "outputs": [
    {
     "name": "stdout",
     "output_type": "stream",
     "text": [
      "****************start find dimensionless*************\n"
     ]
    },
    {
     "data": {
      "image/png": "[encoded data removed]",
      "text/plain": [
       "<Figure size 640x480 with 1 Axes>"
      ]
     },
     "metadata": {},
     "output_type": "display_data"
    },
    {
     "name": "stdout",
     "output_type": "stream",
     "text": [
      "Execution time: 35.74402904510498 s\n",
      "Evaluation number: 33200\n",
      "The best objective value is: 0.9958813419709592\n",
      "The best variables are: \n",
      "1\t-2\t-1\t1\t\n"
     ]
    }
   ],
   "source": [
    "dim = 1\n",
    "deg = 5\n",
    "print('****************start find dimensionless*************')\n",
    "@ea.Problem.single\n",
    "def evalVars(x):\n",
    "    #Train a linear model\n",
    "    theta = np.exp(np.log(inputs) @ np.reshape(x, [inputs.shape[1], dim]))\n",
    "    poly = PolynomialFeatures(deg)\n",
    "    X_poly = poly.fit_transform(theta.reshape(-1, 1))\n",
    "    reg = LinearRegression(fit_intercept=False)\n",
    "    reg.fit(X_poly, outputs)\n",
    "    y_pred = reg.predict(X_poly)\n",
    "    ObjV = r2_score(outputs, y_pred)\n",
    "    # ObjV = np.max(abs(y_pred-outputs)/outputs)\n",
    "    \n",
    "    #constraint\n",
    "    CV = np.abs((dim_matrix @ x )) #DW=0\n",
    "    return ObjV,CV\n",
    "\n",
    "problem = ea.Problem(name='soea quick start demo',\n",
    "                        M=1,  # Target dimension\n",
    "                        maxormins=[-1],  # Target Minimize Maximize Tag List, 1: Minimize the target- 1: Maximize this goal\n",
    "                        Dim = 4,  # Decision variable dimension\n",
    "                        varTypes=[1]*4,  # List of types of decision variables, 0: real number; 1: Integer\n",
    "                        lb=[-2]*4,  # low\n",
    "                        ub=[2]*4,  # up\n",
    "                        evalVars=evalVars)\n",
    "# Building Genetic Algorithms\n",
    "algorithm = ea.soea_SEGA_templet(problem,\n",
    "                                    ea.Population(Encoding='RI', NIND=400),\n",
    "                                    MAXGEN=2000,  # Maximum Generation\n",
    "                                    logTras=0,  # Indicates how many generations log information is recorded, and 0 indicates no logging\n",
    "                                    trappedValue=1e-6,  # Judgment threshold for stagnation in single objective optimization\n",
    "                                    maxTrappedCount=80)  # Maximum upper limit value of evolution stagnation counter\n",
    "# Solve\n",
    "res = ea.optimize(algorithm, seed=1, verbose=True, \n",
    "                  drawing=1, outputMsg=True, drawLog=False, \n",
    "                  saveFlag=True, dirName='result')\n",
    "GaOpt = res['Vars']"
   ]
  },
  {
   "cell_type": "markdown",
   "id": "595ca983",
   "metadata": {},
   "source": [
    "A set of dimensionless powers W=[1,-2,-1,1] T and R2=0.99 was obtained based on the genetic algorithm. The similar dimensionless variable η= W=[-0.5,1,0.5,-0.5]T when the standard power of the coordinate y is 1. The case of the laminar boundary layer verifies the accuracy of the algorithm in this study."
   ]
  },
  {
   "cell_type": "code",
   "execution_count": null,
   "id": "2324f2ed",
   "metadata": {},
   "outputs": [],
   "source": []
  }
 ],
 "metadata": {
  "kernelspec": {
   "display_name": "Python 3 (ipykernel)",
   "language": "python",
   "name": "python3"
  },
  "language_info": {
   "codemirror_mode": {
    "name": "ipython",
    "version": 3
   },
   "file_extension": ".py",
   "mimetype": "text/x-python",
   "name": "python",
   "nbconvert_exporter": "python",
   "pygments_lexer": "ipython3",
   "version": "3.9.16"
  },
  "varInspector": {
   "cols": {
    "lenName": 16,
    "lenType": 16,
    "lenVar": 40
   },
   "kernels_config": {
    "python": {
     "delete_cmd_postfix": "",
     "delete_cmd_prefix": "del ",
     "library": "var_list.py",
     "varRefreshCmd": "print(var_dic_list())"
    },
    "r": {
     "delete_cmd_postfix": ") ",
     "delete_cmd_prefix": "rm(",
     "library": "var_list.r",
     "varRefreshCmd": "cat(var_dic_list()) "
    }
   },
   "types_to_exclude": [
    "module",
    "function",
    "builtin_function_or_method",
    "instance",
    "_Feature"
   ],
   "window_display": false
  }
 },
 "nbformat": 4,
 "nbformat_minor": 5
}
